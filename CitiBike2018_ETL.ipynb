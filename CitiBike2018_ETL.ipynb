{
 "cells": [
  {
   "cell_type": "markdown",
   "metadata": {},
   "source": [
    "# Cleaning Code\n",
    "This code extract, transform and upload 2018 data from New York CityBike's System. The resulting CSV file will be used to build a story dashboard in Tableau Public."
   ]
  },
  {
   "cell_type": "code",
   "execution_count": 1,
   "metadata": {
    "collapsed": true
   },
   "outputs": [],
   "source": [
    "#Import dependencies\n",
    "import os\n",
    "import pandas as pd\n",
    "from math import radians, sin, cos, acos"
   ]
  },
  {
   "cell_type": "code",
   "execution_count": 2,
   "metadata": {
    "collapsed": false
   },
   "outputs": [],
   "source": [
    "#Uploading Trip Files from CSV files\n",
    "\n",
    "January_data = pd.read_csv(\"Trips_data/January.csv\")\n",
    "February_data = pd.read_csv(\"Trips_data/February.csv\")\n",
    "March_data = pd.read_csv(\"Trips_data/March.csv\")\n",
    "April_data = pd.read_csv(\"Trips_data/April.csv\")\n",
    "May_data = pd.read_csv(\"Trips_data/May.csv\")\n",
    "June_data = pd.read_csv(\"Trips_data/June.csv\")\n",
    "July_data = pd.read_csv(\"Trips_data/July.csv\")\n",
    "August_data = pd.read_csv(\"Trips_data/August.csv\")\n",
    "September_data = pd.read_csv(\"Trips_data/September.csv\")\n",
    "October_data = pd.read_csv(\"Trips_data/October.csv\")\n",
    "November_data = pd.read_csv(\"Trips_data/November.csv\")\n",
    "December_data = pd.read_csv(\"Trips_data/December.csv\")\n"
   ]
  },
  {
   "cell_type": "code",
   "execution_count": 3,
   "metadata": {
    "collapsed": true
   },
   "outputs": [],
   "source": [
    "def distance_on_unit_sphere(row):\n",
    "    try:\n",
    "        slat = radians(row['start station latitude'])\n",
    "        slon = radians(row['start station longitude'])\n",
    "        elat = radians(row['end station latitude'])\n",
    "        elon = radians(row['end station longitude'])\n",
    "        \n",
    "        #The earth radius is given directly in miles\n",
    "        dist = 3958.8 * acos(sin(slat)*sin(elat) + cos(slat)*cos(elat)*cos(slon - elon))\n",
    "        \n",
    "    except:\n",
    "        dist=0\n",
    "\n",
    "    return dist"
   ]
  },
  {
   "cell_type": "code",
   "execution_count": 4,
   "metadata": {
    "collapsed": false
   },
   "outputs": [],
   "source": [
    "def cleaning_function(month_data):\n",
    "    month_data=month_data.drop(columns=['stoptime'])\n",
    "    month_data[['age']] = 2018 - month_data[['birth year']]\n",
    "    month_data= month_data.drop(columns=['birth year'])\n",
    "    month_data['starttime'] = month_data['starttime'].map(lambda x: str(x)[:-5])\n",
    "    #Deleting age outliers, minimum age to get the card is 16 and we considered maximum as 99\n",
    "    month_data = month_data[(month_data.age >= 16) & (month_data.age <=99)]\n",
    "    #Assign more understandable values in gender\n",
    "    replace_values = {0 : 'Unknown', 1 : 'Male', 2 : 'Female'}  \n",
    "    month_data= month_data.replace({\"gender\": replace_values})\n",
    "    #Get time in minutes\n",
    "    month_data['tripduration']= round(month_data['tripduration']/60,2)\n",
    "    #Rearranged Values\n",
    "    month_data = month_data[['starttime', 'tripduration', 'start station id', 'start station name',\n",
    "                            'start station latitude', 'start station longitude', 'end station id', 'end station name',\n",
    "                            'end station latitude', 'end station longitude', 'bikeid', 'usertype', 'gender','age']]\n",
    "    month_data['distances']= month_data.apply(distance_on_unit_sphere, axis=1)\n",
    "    \n",
    "    return(month_data)"
   ]
  },
  {
   "cell_type": "code",
   "execution_count": 5,
   "metadata": {
    "collapsed": false
   },
   "outputs": [],
   "source": [
    "January_data= cleaning_function(January_data)\n",
    "February_data= cleaning_function(February_data)\n",
    "March_data= cleaning_function(March_data)\n",
    "April_data= cleaning_function(April_data)\n",
    "May_data= cleaning_function(May_data)\n",
    "June_data= cleaning_function(June_data)\n",
    "July_data= cleaning_function(July_data)\n",
    "August_data= cleaning_function(August_data)\n",
    "September_data= cleaning_function(September_data)\n",
    "October_data = cleaning_function(October_data)\n",
    "November_data= cleaning_function(November_data)\n",
    "December_data= cleaning_function(December_data)"
   ]
  },
  {
   "cell_type": "code",
   "execution_count": 6,
   "metadata": {
    "collapsed": false
   },
   "outputs": [],
   "source": [
    "Data_year2018 = pd.concat([January_data, February_data, March_data, April_data, May_data, June_data, July_data,\n",
    "                          August_data, September_data, October_data, November_data, December_data], ignore_index=True)"
   ]
  },
  {
   "cell_type": "code",
   "execution_count": 10,
   "metadata": {
    "collapsed": false
   },
   "outputs": [],
   "source": [
    " Data_year2018.to_csv(\"Trips_Data_2018.csv\", index=False)"
   ]
  },
  {
   "cell_type": "code",
   "execution_count": null,
   "metadata": {
    "collapsed": true
   },
   "outputs": [],
   "source": []
  }
 ],
 "metadata": {
  "anaconda-cloud": {},
  "kernelspec": {
   "display_name": "Python [conda env:PythonData]",
   "language": "python",
   "name": "conda-env-PythonData-py"
  },
  "language_info": {
   "codemirror_mode": {
    "name": "ipython",
    "version": 3
   },
   "file_extension": ".py",
   "mimetype": "text/x-python",
   "name": "python",
   "nbconvert_exporter": "python",
   "pygments_lexer": "ipython3",
   "version": "3.6.8"
  }
 },
 "nbformat": 4,
 "nbformat_minor": 1
}
